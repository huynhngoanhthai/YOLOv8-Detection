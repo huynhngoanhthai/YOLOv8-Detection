{
 "cells": [
  {
   "cell_type": "markdown",
   "metadata": {},
   "source": [
    "import library "
   ]
  },
  {
   "cell_type": "code",
   "execution_count": null,
   "metadata": {},
   "outputs": [],
   "source": [
    "from ultralytics import YOLO"
   ]
  },
  {
   "cell_type": "markdown",
   "metadata": {},
   "source": [
    "check library "
   ]
  },
  {
   "cell_type": "code",
   "execution_count": null,
   "metadata": {},
   "outputs": [],
   "source": [
    "\n",
    "# Check ultralytics \n",
    "YOLO.checks()"
   ]
  },
  {
   "cell_type": "markdown",
   "metadata": {},
   "source": [
    "choice models train\n",
    "have YOLOv8n,YOLOv8s,YOLOv8m,YOLOv8l,YOLOv8x\n"
   ]
  },
  {
   "cell_type": "code",
   "execution_count": null,
   "metadata": {},
   "outputs": [],
   "source": [
    "# Load a model\n",
    "yolo_yaml_path = 'yolo_data/data .yml '\n",
    "model = YOLO ('’yolov8s.yaml'). load ('yolov8s.pt')"
   ]
  },
  {
   "cell_type": "markdown",
   "metadata": {},
   "source": [
    "The code snippet is setting up import parameters for a machine learning model training process. Here's what each parameter represents:\n"
   ]
  },
  {
   "cell_type": "code",
   "execution_count": null,
   "metadata": {},
   "outputs": [],
   "source": [
    "# Set up import parameters\n",
    "epochs = 15 # number learning\n",
    "imgsz = 640\n",
    "batch_size = 8\n",
    "patience = 5\n",
    "lr = 0.0005\n"
   ]
  },
  {
   "cell_type": "markdown",
   "metadata": {},
   "source": [
    "This code snippet is calling a method `train` on the `model` object with several parameters passed to it. Here is a breakdown of what each parameter is doing:"
   ]
  },
  {
   "cell_type": "code",
   "execution_count": null,
   "metadata": {},
   "outputs": [],
   "source": [
    "results = model . train (\n",
    "    data = yolo_yaml_path ,\n",
    "    epochs = epochs ,\n",
    "    imgsz = imgsz ,\n",
    "    batch = batch_size ,\n",
    "    lr0 = lr ,\n",
    "    patience = patience ,\n",
    "    project ='models',\n",
    "    name ='yolov8/detect/train'\n",
    ")"
   ]
  },
  {
   "cell_type": "markdown",
   "metadata": {},
   "source": [
    "This code snippet is performing object detection using the YOLOv8 model. Here's a breakdown of what each line is doing:\n"
   ]
  },
  {
   "cell_type": "code",
   "execution_count": null,
   "metadata": {},
   "outputs": [],
   "source": [
    "model_path = 'models/yolov8/dectect/train/weights/best.pt'\n",
    "test_img_dir = 'yolo_data/val/images/vid_4_12140.jpg'\n",
    "model = YOLO(model_path)\n",
    "\n"
   ]
  },
  {
   "cell_type": "markdown",
   "metadata": {},
   "source": [
    "detect a image"
   ]
  },
  {
   "cell_type": "code",
   "execution_count": null,
   "metadata": {},
   "outputs": [],
   "source": [
    "model.predict(test_img_dir,save = True)"
   ]
  },
  {
   "cell_type": "markdown",
   "metadata": {},
   "source": [
    "detect images"
   ]
  },
  {
   "cell_type": "code",
   "execution_count": null,
   "metadata": {},
   "outputs": [],
   "source": [
    "import os\n",
    "imagesInFolder = 'image/test'\n",
    "for imageName in os.path():\n",
    "    test_img = imagesInFolder + imageName\n",
    "    model.predict(test_img,save = True)"
   ]
  }
 ],
 "metadata": {
  "language_info": {
   "name": "python"
  }
 },
 "nbformat": 4,
 "nbformat_minor": 2
}
